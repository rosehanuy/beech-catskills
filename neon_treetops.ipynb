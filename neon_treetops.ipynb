{
 "cells": [
  {
   "cell_type": "code",
   "execution_count": 1,
   "metadata": {},
   "outputs": [],
   "source": [
    "import pandas as pd\n",
    "import numpy as np\n",
    "import geopandas as gpd\n",
    "import xarray as xr\n",
    "import matplotlib.pyplot as plt\n",
    "from pathlib import Path\n",
    "from shapely.geometry import box, Polygon\n",
    "from shapely import affinity\n",
    "import rioxarray\n",
    "from sklearn.cluster import DBSCAN\n",
    "import os\n",
    "from rasterio.features import shapes\n",
    "\n",
    "from src.utils import read_neon_trees\n",
    "\n",
    "root = Path.cwd()"
   ]
  },
  {
   "cell_type": "code",
   "execution_count": 41,
   "metadata": {},
   "outputs": [],
   "source": [
    "class NeonSite:\n",
    "    def __init__(self,site,epsg):\n",
    "        self.site = site\n",
    "        self.epsg = epsg\n",
    "        self.epsg_int = int(self.epsg.split(':')[1])\n",
    "        self.base_dir = 'c:/Users/roseh/OneDrive - Hunter - CUNY/Documents/beech_tree'\n",
    "        self.all_trees = self.read_neon_trees()\n",
    "        self.filtered_trees = gpd.GeoDataFrame()\n",
    "\n",
    "        self.sentinel_indices = xr.open_dataarray(self.base_dir / 'sentinel_data' / f'2019_{self.site}_indices.nc')\n",
    "        sent_i = self.sentinel.rio.write_crs(self.epsg_int).rio.set_spatial_dims(x_dim=\"x\",y_dim=\"y\",).rio.write_coordinate_system()\n",
    "\n",
    "        self.sentinel_bands = xr.open_dataarray(self.base_dir / 'sentinel_data' / f'2019_{self.site}.nc')\n",
    "        sent_b = self.sentinel.rio.write_crs(self.epsg_int).rio.set_spatial_dims(x_dim=\"x\",y_dim=\"y\",).rio.write_coordinate_system()\n",
    "\n",
    "    def read_neon_trees(self):\n",
    "    \n",
    "        trees_df = pd.read_csv(os.path.join(self.base_dir,'output',self.site, f'neon_trees_{self.site}.csv'))\n",
    "        if self.site == 'BART':\n",
    "            trees_df.taxonID = trees_df.taxonID.replace(to_replace='BEPA',value='BEPAP')\n",
    "        trees_df.taxonID.value_counts()\n",
    "        geometry = gpd.points_from_xy(trees_df.easting_tree, trees_df.northing_tree, crs=self.epsg)\n",
    "        trees_df['geometry'] = geometry\n",
    "        trees_gdf = gpd.GeoDataFrame(trees_df,geometry='geometry',crs=self.epsg)\n",
    "        # add crown buffer\n",
    "        trees_gdf['crown_buffer'] = trees_gdf.apply(lambda row: row['geometry'].buffer(row['ninetyCrownDiameter']/2) if not np.isnan(row['ninetyCrownDiameter']) else np.nan, axis=1)\n",
    "\n",
    "        return trees_gdf\n",
    "    \n",
    "    def save_all_trees(self):\n",
    "        trees_buffer = self.all_trees.drop('geometry',axis=1).set_geometry('crown_buffer',crs=self.epsg_int)\n",
    "        trees = self.all_trees.drop('crown_buffer',axis=1)\n",
    "\n",
    "        trees.to_file(os.path.join(self.base_dir,'output',self.site,f'all_trees_{self.site}.gpkg'))\n",
    "        trees_buffer.to_file(os.path.join(self.base_dir,'output',self.site,f'all_trees_crowns_{self.site}.gpkg'))\n",
    "    \n",
    "    def filter_trees(self):\n",
    "        #Filter for trees within 1.5 std of median difference between survey observed tree height and chm observed tree height\n",
    "        chm_dif_med = self.all_trees.chm_dif.median()\n",
    "        chm_dif_std = self.all_trees.chm_dif.std()\n",
    "        threshold1 = chm_dif_med-chm_dif_std*1.5\n",
    "        threshold2 = chm_dif_med + chm_dif_std*1.5\n",
    "\n",
    "        filtered_trees = self.all_trees.loc[(self.all_trees.chm_dif > threshold1) & (self.all_trees.chm_dif < threshold2)].reset_index(drop=True)\n",
    "        if len(filtered_trees) == 0:\n",
    "            print('no trees here')\n",
    "            \n",
    "        #Calculate distance matrix between all trees\n",
    "        dist_matrix = filtered_trees.geometry.apply(lambda g: filtered_trees.distance(g)).to_numpy()\n",
    "        #Grab upper triangle of distance matrix since dist mat is symmetrical\n",
    "        upper_tri = dist_matrix[np.triu_indices_from(dist_matrix, k=1)]\n",
    "        #Find a distance threshold for trees that might be too close together\n",
    "        thresh = np.median(upper_tri) - upper_tri.std()*1.5\n",
    "        #Get index pairs where trees are suspiciously close\n",
    "        #Sort + Set to remove redundant pairs i.e. (12, 14) and (14, 12) and identical pairs\n",
    "        sus_indexes = set(tuple(sorted(x)) for x in np.argwhere(dist_matrix<thresh) if x[0] != x[1])\n",
    "        to_drop = list()\n",
    "        for sus in sus_indexes:\n",
    "\n",
    "            height_0 = filtered_trees.loc[sus[0]]['height']\n",
    "            height_1 = filtered_trees.loc[sus[1]]['height']\n",
    "            #When two trees are very close, pick the higher one as observed from ground survey (not chm for consistency with scholl), drop the shorter one\n",
    "            to_add = sus[0] if height_1>=height_0 else sus[1]\n",
    "            to_drop.append(to_add)\n",
    "\n",
    "        to_drop = set(to_drop)\n",
    "        filtered_trees = filtered_trees.drop(to_drop).reset_index(drop=True)\n",
    "        self.filtered_trees = filtered_trees\n",
    "        return filtered_trees\n",
    "    \n",
    "    def save_filtered_trees(self):\n",
    "        trees_buffer = self.filtered_trees.drop('geometry',axis=1).set_geometry('crown_buffer',crs=self.epsg_int)\n",
    "        trees = self.filtered_trees.drop('crown_buffer',axis=1)\n",
    "\n",
    "        trees.to_file(os.path.join(self.base_dir,'output',self.site,f'filtered_trees_{self.site}.gpkg'))\n",
    "        trees_buffer.to_file(os.path.join(self.base_dir,'output',self.site,f'filtered_trees_crowns_{self.site}.gpkg'))\n",
    "\n",
    "    \n",
    "\n",
    "    "
   ]
  },
  {
   "cell_type": "code",
   "execution_count": null,
   "metadata": {},
   "outputs": [],
   "source": [
    "bart = NeonSite('BART',\"EPSG:26919\")"
   ]
  },
  {
   "cell_type": "code",
   "execution_count": 46,
   "metadata": {},
   "outputs": [],
   "source": [
    "ft = bart.filter_trees()"
   ]
  },
  {
   "cell_type": "code",
   "execution_count": 49,
   "metadata": {},
   "outputs": [],
   "source": [
    "site = 'BART'\n",
    "epsg = \"EPSG:26919\"\n",
    "epsg2 = 26919\n",
    "\n",
    "trees = read_neon_trees(root,site,epsg=epsg)\n",
    "\n",
    "def add_crown_buffer(gdf):\n",
    "    gdf['crown_buffer'] = gdf.apply(lambda row: row['geometry'].buffer(row['ninetyCrownDiameter']/2) if not np.isnan(row['ninetyCrownDiameter']) else row['ninetyCrownDiameter'].mean(), axis=1)\n",
    "    return gdf\n",
    "\n",
    "trees = add_crown_buffer(trees)"
   ]
  },
  {
   "cell_type": "markdown",
   "metadata": {},
   "source": [
    "### Vectorize Sentinel data"
   ]
  },
  {
   "cell_type": "code",
   "execution_count": 2,
   "metadata": {},
   "outputs": [],
   "source": [
    "t = gpd.read_file(root / 'output' / 'BART' / 'filtered_trees_BART.gpkg')"
   ]
  },
  {
   "cell_type": "code",
   "execution_count": 15,
   "metadata": {},
   "outputs": [],
   "source": [
    "epsg2 = 26919\n",
    "b = xr.open_dataarray(root / 'sentinel_data' / '2019_bart_indices.nc')\n",
    "b = b.rio.write_crs(epsg2).rio.set_spatial_dims(x_dim=\"x\",y_dim=\"y\",).rio.write_coordinate_system()"
   ]
  },
  {
   "cell_type": "code",
   "execution_count": 23,
   "metadata": {},
   "outputs": [
    {
     "data": {
      "image/png": "[encoded data removed]",
      "text/plain": [
       "<Figure size 700x700 with 2 Axes>"
      ]
     },
     "metadata": {},
     "output_type": "display_data"
    }
   ],
   "source": [
    "# buffer arbitrary cluster\n",
    "buffer = t.iloc[1273:1274,].buffer(50)\n",
    "\n",
    "points_idx = buffer.sindex.query(t.geometry, predicate=\"intersects\")[0]\n",
    "clipped_trees = t.iloc[points_idx]\n",
    "bx = box(*clipped_trees.total_bounds)\n",
    "\n",
    "bigger_box = affinity.scale(bx, xfact=1.5, yfact=1.5)\n",
    "\n",
    "clip_df = gpd.GeoDataFrame(\n",
    "    geometry=[bigger_box],\n",
    "    crs=\"EPSG:26919\"\n",
    ")\n",
    "\n",
    "clipped_raster = b.isel(band=1,time=12).rio.clip(clip_df.geometry.values, crs=26919, drop=True, invert=False)\n",
    "clipped_beech = clipped_trees.loc[clipped_trees['taxonID']=='FAGR']\n",
    "clipped_nonbeech = clipped_trees.loc[clipped_trees['taxonID']!='FAGR']\n",
    "\n",
    "fig, ax = plt.subplots(ncols=1, figsize=(7, 7))\n",
    "\n",
    "clipped_raster.plot.imshow(ax=ax)\n",
    "\n",
    "clipped_beech.plot(ax=ax,color='orange',markersize=3)\n",
    "clipped_nonbeech.plot(ax=ax,color='red',markersize=3)\n",
    "#clipped_trees['crown_buffer'].plot(ax=ax, edgecolor='pink',facecolor='none')\n",
    "\n",
    "\n",
    "# plot crown buffers\n",
    "#['crown_buffer'].plot(ax=ax, edgecolor='yellow',facecolor='none')\n",
    "# f2_beech = f2.loc[f2['taxonID']=='FAGR']\n",
    "# f2_nonbeech = f2.loc[f2['taxonID']!='FAGR']\n",
    "\n",
    "\n",
    "ax.set_axis_off()"
   ]
  },
  {
   "cell_type": "code",
   "execution_count": 104,
   "metadata": {},
   "outputs": [],
   "source": [
    "# create vector grid from raster cells\n",
    "polygons = shapes(clipped_raster.values, transform=clipped_raster.rio.transform())\n",
    "# Create a list of dictionaries for each polygon\n",
    "geometry = []\n",
    "ids = []\n",
    "i = 1\n",
    "for polygon, value in polygons:\n",
    "        geometry.append(polygon)\n",
    "        ids.append(i)\n",
    "        i += 1   \n",
    "\n",
    "# Create a GeoDataFrame from the features\n",
    "gdf_dict = {'geometry':[Polygon(x['coordinates'][0]) for x in geometry],'cell_id':list(range(1,len(geometry)+1))}\n",
    "\n",
    "gdf = gpd.GeoDataFrame(gdf_dict, crs=clipped_raster.rio.crs)"
   ]
  },
  {
   "cell_type": "code",
   "execution_count": 105,
   "metadata": {},
   "outputs": [],
   "source": [
    "# join beech points to polygons\n",
    "j = gpd.sjoin(gdf, clipped_beech, predicate='contains') \n"
   ]
  },
  {
   "cell_type": "code",
   "execution_count": 138,
   "metadata": {},
   "outputs": [],
   "source": [
    "beech_per_plot = j.groupby('cell_id').plotID.agg('count') # number of beech per plot"
   ]
  },
  {
   "cell_type": "code",
   "execution_count": 144,
   "metadata": {},
   "outputs": [],
   "source": [
    "beech_per_plot = beech_per_plot.to_frame().reset_index()"
   ]
  },
  {
   "cell_type": "code",
   "execution_count": 149,
   "metadata": {},
   "outputs": [
    {
     "data": {
      "text/html": [
       "<div>\n",
       "<style scoped>\n",
       "    .dataframe tbody tr th:only-of-type {\n",
       "        vertical-align: middle;\n",
       "    }\n",
       "\n",
       "    .dataframe tbody tr th {\n",
       "        vertical-align: top;\n",
       "    }\n",
       "\n",
       "    .dataframe thead th {\n",
       "        text-align: right;\n",
       "    }\n",
       "</style>\n",
       "<table border=\"1\" class=\"dataframe\">\n",
       "  <thead>\n",
       "    <tr style=\"text-align: right;\">\n",
       "      <th></th>\n",
       "      <th>cell_id</th>\n",
       "      <th>index</th>\n",
       "      <th>geometry</th>\n",
       "      <th>plotID</th>\n",
       "    </tr>\n",
       "  </thead>\n",
       "  <tbody>\n",
       "    <tr>\n",
       "      <th>0</th>\n",
       "      <td>1</td>\n",
       "      <td>0</td>\n",
       "      <td>POLYGON ((317095 4881125, 317095 4881115, 3171...</td>\n",
       "      <td>NaN</td>\n",
       "    </tr>\n",
       "    <tr>\n",
       "      <th>1</th>\n",
       "      <td>2</td>\n",
       "      <td>1</td>\n",
       "      <td>POLYGON ((317105 4881125, 317105 4881115, 3171...</td>\n",
       "      <td>2.0</td>\n",
       "    </tr>\n",
       "    <tr>\n",
       "      <th>2</th>\n",
       "      <td>3</td>\n",
       "      <td>2</td>\n",
       "      <td>POLYGON ((317115 4881125, 317115 4881115, 3171...</td>\n",
       "      <td>NaN</td>\n",
       "    </tr>\n",
       "    <tr>\n",
       "      <th>3</th>\n",
       "      <td>4</td>\n",
       "      <td>3</td>\n",
       "      <td>POLYGON ((317125 4881125, 317125 4881115, 3171...</td>\n",
       "      <td>2.0</td>\n",
       "    </tr>\n",
       "    <tr>\n",
       "      <th>4</th>\n",
       "      <td>5</td>\n",
       "      <td>4</td>\n",
       "      <td>POLYGON ((317135 4881125, 317135 4881115, 3171...</td>\n",
       "      <td>NaN</td>\n",
       "    </tr>\n",
       "    <tr>\n",
       "      <th>5</th>\n",
       "      <td>6</td>\n",
       "      <td>5</td>\n",
       "      <td>POLYGON ((317145 4881125, 317145 4881115, 3171...</td>\n",
       "      <td>1.0</td>\n",
       "    </tr>\n",
       "    <tr>\n",
       "      <th>6</th>\n",
       "      <td>7</td>\n",
       "      <td>6</td>\n",
       "      <td>POLYGON ((317095 4881115, 317095 4881105, 3171...</td>\n",
       "      <td>NaN</td>\n",
       "    </tr>\n",
       "    <tr>\n",
       "      <th>7</th>\n",
       "      <td>8</td>\n",
       "      <td>7</td>\n",
       "      <td>POLYGON ((317105 4881115, 317105 4881105, 3171...</td>\n",
       "      <td>2.0</td>\n",
       "    </tr>\n",
       "    <tr>\n",
       "      <th>8</th>\n",
       "      <td>9</td>\n",
       "      <td>8</td>\n",
       "      <td>POLYGON ((317115 4881115, 317115 4881105, 3171...</td>\n",
       "      <td>3.0</td>\n",
       "    </tr>\n",
       "    <tr>\n",
       "      <th>9</th>\n",
       "      <td>10</td>\n",
       "      <td>9</td>\n",
       "      <td>POLYGON ((317125 4881115, 317125 4881105, 3171...</td>\n",
       "      <td>5.0</td>\n",
       "    </tr>\n",
       "    <tr>\n",
       "      <th>10</th>\n",
       "      <td>11</td>\n",
       "      <td>10</td>\n",
       "      <td>POLYGON ((317135 4881115, 317135 4881105, 3171...</td>\n",
       "      <td>4.0</td>\n",
       "    </tr>\n",
       "    <tr>\n",
       "      <th>11</th>\n",
       "      <td>12</td>\n",
       "      <td>11</td>\n",
       "      <td>POLYGON ((317145 4881115, 317145 4881105, 3171...</td>\n",
       "      <td>2.0</td>\n",
       "    </tr>\n",
       "    <tr>\n",
       "      <th>12</th>\n",
       "      <td>13</td>\n",
       "      <td>12</td>\n",
       "      <td>POLYGON ((317095 4881105, 317095 4881095, 3171...</td>\n",
       "      <td>NaN</td>\n",
       "    </tr>\n",
       "    <tr>\n",
       "      <th>13</th>\n",
       "      <td>14</td>\n",
       "      <td>13</td>\n",
       "      <td>POLYGON ((317105 4881105, 317105 4881095, 3171...</td>\n",
       "      <td>1.0</td>\n",
       "    </tr>\n",
       "    <tr>\n",
       "      <th>14</th>\n",
       "      <td>15</td>\n",
       "      <td>14</td>\n",
       "      <td>POLYGON ((317115 4881105, 317115 4881095, 3171...</td>\n",
       "      <td>1.0</td>\n",
       "    </tr>\n",
       "    <tr>\n",
       "      <th>15</th>\n",
       "      <td>16</td>\n",
       "      <td>15</td>\n",
       "      <td>POLYGON ((317125 4881105, 317125 4881095, 3171...</td>\n",
       "      <td>3.0</td>\n",
       "    </tr>\n",
       "    <tr>\n",
       "      <th>16</th>\n",
       "      <td>17</td>\n",
       "      <td>16</td>\n",
       "      <td>POLYGON ((317135 4881105, 317135 4881095, 3171...</td>\n",
       "      <td>2.0</td>\n",
       "    </tr>\n",
       "    <tr>\n",
       "      <th>17</th>\n",
       "      <td>18</td>\n",
       "      <td>17</td>\n",
       "      <td>POLYGON ((317145 4881105, 317145 4881095, 3171...</td>\n",
       "      <td>3.0</td>\n",
       "    </tr>\n",
       "  </tbody>\n",
       "</table>\n",
       "</div>"
      ],
      "text/plain": [
       "    cell_id  index                                           geometry  plotID\n",
       "0         1      0  POLYGON ((317095 4881125, 317095 4881115, 3171...     NaN\n",
       "1         2      1  POLYGON ((317105 4881125, 317105 4881115, 3171...     2.0\n",
       "2         3      2  POLYGON ((317115 4881125, 317115 4881115, 3171...     NaN\n",
       "3         4      3  POLYGON ((317125 4881125, 317125 4881115, 3171...     2.0\n",
       "4         5      4  POLYGON ((317135 4881125, 317135 4881115, 3171...     NaN\n",
       "5         6      5  POLYGON ((317145 4881125, 317145 4881115, 3171...     1.0\n",
       "6         7      6  POLYGON ((317095 4881115, 317095 4881105, 3171...     NaN\n",
       "7         8      7  POLYGON ((317105 4881115, 317105 4881105, 3171...     2.0\n",
       "8         9      8  POLYGON ((317115 4881115, 317115 4881105, 3171...     3.0\n",
       "9        10      9  POLYGON ((317125 4881115, 317125 4881105, 3171...     5.0\n",
       "10       11     10  POLYGON ((317135 4881115, 317135 4881105, 3171...     4.0\n",
       "11       12     11  POLYGON ((317145 4881115, 317145 4881105, 3171...     2.0\n",
       "12       13     12  POLYGON ((317095 4881105, 317095 4881095, 3171...     NaN\n",
       "13       14     13  POLYGON ((317105 4881105, 317105 4881095, 3171...     1.0\n",
       "14       15     14  POLYGON ((317115 4881105, 317115 4881095, 3171...     1.0\n",
       "15       16     15  POLYGON ((317125 4881105, 317125 4881095, 3171...     3.0\n",
       "16       17     16  POLYGON ((317135 4881105, 317135 4881095, 3171...     2.0\n",
       "17       18     17  POLYGON ((317145 4881105, 317145 4881095, 3171...     3.0"
      ]
     },
     "execution_count": 149,
     "metadata": {},
     "output_type": "execute_result"
    }
   ],
   "source": [
    "gdf.merge(beech_per_plot,on='cell_id',how='outer')  # need to rename plotID to number of beech"
   ]
  },
  {
   "cell_type": "code",
   "execution_count": 3,
   "metadata": {},
   "outputs": [],
   "source": [
    "def filter_trees(gdf):\n",
    "        #Filter for trees within 1.5 std of median difference between survey observed tree height and chm observed tree height\n",
    "        chm_dif_med = gdf.chm_dif.median()\n",
    "        chm_dif_std = gdf.chm_dif.std()\n",
    "        threshold1 = chm_dif_med-chm_dif_std*1.5\n",
    "        threshold2 = chm_dif_med + chm_dif_std*1.5\n",
    "\n",
    "        filtered_trees = gdf.loc[(gdf.chm_dif > threshold1) & (gdf.chm_dif < threshold2)].reset_index(drop=True)\n",
    "        if len(filtered_trees) == 0:\n",
    "            return filtered_trees\n",
    "        #Calculate distance matrix between all trees\n",
    "        dist_matrix = filtered_trees.geometry.apply(lambda g: filtered_trees.distance(g)).to_numpy()\n",
    "        #Grab upper triangle of distance matrix since dist mat is symmetrical\n",
    "        upper_tri = dist_matrix[np.triu_indices_from(dist_matrix, k=1)]\n",
    "        #Find a distance threshold for trees that might be too close together\n",
    "        thresh = np.median(upper_tri) - upper_tri.std()*1.5\n",
    "        #Get index pairs where trees are suspiciously close\n",
    "        #Sort + Set to remove redundant pairs i.e. (12, 14) and (14, 12) and identical pairs\n",
    "        sus_indexes = set(tuple(sorted(x)) for x in np.argwhere(dist_matrix<thresh) if x[0] != x[1])\n",
    "        to_drop = list()\n",
    "        for sus in sus_indexes:\n",
    "\n",
    "            height_0 = filtered_trees.loc[sus[0]]['height']\n",
    "            height_1 = filtered_trees.loc[sus[1]]['height']\n",
    "            #When two trees are very close, pick the higher one as observed from ground survey (not chm for consistency with scholl), drop the shorter one\n",
    "            to_add = sus[0] if height_1>=height_0 else sus[1]\n",
    "            to_drop.append(to_add)\n",
    "\n",
    "        to_drop = set(to_drop)\n",
    "        filtered_trees = filtered_trees.drop(to_drop).reset_index(drop=True)\n",
    "        \n",
    "        return filtered_trees"
   ]
  },
  {
   "cell_type": "code",
   "execution_count": 53,
   "metadata": {},
   "outputs": [],
   "source": [
    "trees_buffer = trees.drop('geometry',axis=1).set_geometry('crown_buffer',crs=epsg2)\n",
    "trees = trees.drop('crown_buffer',axis=1)\n",
    "\n",
    "trees.to_file(f'output/{site}/all_trees_{site}.gpkg')\n",
    "trees_buffer.to_file(f'output/{site}/all_trees_crowns{site}.gpkg')"
   ]
  },
  {
   "cell_type": "code",
   "execution_count": 51,
   "metadata": {},
   "outputs": [
    {
     "data": {
      "text/plain": [
       "(1588, 18)"
      ]
     },
     "execution_count": 51,
     "metadata": {},
     "output_type": "execute_result"
    }
   ],
   "source": [
    "f2 = filter_trees(trees)\n",
    "f2.shape"
   ]
  },
  {
   "cell_type": "code",
   "execution_count": 31,
   "metadata": {},
   "outputs": [],
   "source": [
    "f2_buffer = f2.drop('geometry',axis=1).set_geometry('crown_buffer',crs=epsg2)"
   ]
  },
  {
   "cell_type": "code",
   "execution_count": 32,
   "metadata": {},
   "outputs": [],
   "source": [
    "f2 = f2.drop('crown_buffer',axis=1)"
   ]
  },
  {
   "cell_type": "code",
   "execution_count": 33,
   "metadata": {},
   "outputs": [],
   "source": [
    "f2.to_file(f'output/{site}/filtered_trees_{site}.gpkg')\n",
    "f2_buffer.to_file(f'output/{site}/filtered_trees_crowns{site}.gpkg')"
   ]
  },
  {
   "cell_type": "code",
   "execution_count": 88,
   "metadata": {},
   "outputs": [],
   "source": [
    "# pixels selected manually based on sentinel data\n",
    "q = pd.concat([gpd.read_file(f) for f in os.scandir(root/'temp')])"
   ]
  },
  {
   "cell_type": "code",
   "execution_count": 90,
   "metadata": {},
   "outputs": [
    {
     "data": {
      "text/plain": [
       "(18, 17)"
      ]
     },
     "execution_count": 90,
     "metadata": {},
     "output_type": "execute_result"
    }
   ],
   "source": [
    "q.loc[q.taxonID=='FAGR'].shape"
   ]
  },
  {
   "cell_type": "code",
   "execution_count": 91,
   "metadata": {},
   "outputs": [
    {
     "data": {
      "text/plain": [
       "(33, 17)"
      ]
     },
     "execution_count": 91,
     "metadata": {},
     "output_type": "execute_result"
    }
   ],
   "source": [
    "q.loc[q.taxonID!='FAGR'].shape"
   ]
  }
 ],
 "metadata": {
  "kernelspec": {
   "display_name": "beech-env",
   "language": "python",
   "name": "python3"
  },
  "language_info": {
   "codemirror_mode": {
    "name": "ipython",
    "version": 3
   },
   "file_extension": ".py",
   "mimetype": "text/x-python",
   "name": "python",
   "nbconvert_exporter": "python",
   "pygments_lexer": "ipython3",
   "version": "3.12.7"
  }
 },
 "nbformat": 4,
 "nbformat_minor": 2
}
