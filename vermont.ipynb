{
 "cells": [
  {
   "cell_type": "code",
   "execution_count": 2,
   "id": "c4da1ff6",
   "metadata": {},
   "outputs": [],
   "source": [
    "import pandas as pd\n",
    "import numpy as np\n",
    "import geopandas as gpd\n",
    "import matplotlib.pyplot as plt\n",
    "from pathlib import Path\n",
    "from shapely.geometry import box, Point, Polygon\n",
    "import xarray as xr\n",
    "import rioxarray\n",
    "from rasterio.features import shapes\n",
    "import os\n",
    "import folium\n",
    "from math import asin, atan2, cos, degrees, radians, sin\n",
    "from geocube.api.core import make_geocube\n",
    "\n",
    "root = Path.cwd()"
   ]
  },
  {
   "cell_type": "code",
   "execution_count": null,
   "id": "47d033d5",
   "metadata": {},
   "outputs": [],
   "source": [
    "# read in plot data\n",
    "plot_data = pd.read_csv(root / 'vermont' / 'subplot_info.csv')\n",
    "plot_data = plot_data.loc[~np.isnan(plot_data['fldLatitude'])]\n",
    "plot_data['subplot_id'] = plot_data['PlotID'] * 10 + plot_data['SubplotID']\n",
    "\n",
    "# convert to geodataframe\n",
    "geometry = gpd.points_from_xy(plot_data['fldLongitude'], plot_data['fldLatitude'], crs='EPSG:4326')\n",
    "plot_data['geometry'] = geometry\n",
    "plots = gpd.GeoDataFrame(plot_data,geometry='geometry',crs='EPSG:4326')"
   ]
  },
  {
   "cell_type": "code",
   "execution_count": null,
   "id": "6cd1086e",
   "metadata": {},
   "outputs": [],
   "source": [
    "# read tree location csv\n",
    "tree_info = pd.read_csv(root / 'vermont' / 'tree_info.csv')\n",
    "#tree_info['subplot_id'] = tree_info['PlotID'] * 10 + tree_info['SubplotID']\n",
    "tree_info['uniqueTreeID'] = (tree_info['PlotID'].astype(str) + '_' +\n",
    "    tree_info['SubplotID'].astype(str) + '_' +\n",
    "    tree_info['TreeID'].astype(str)\n",
    ")\n",
    "\n",
    "# read tree measurements csv\n",
    "stats = pd.read_csv(root / 'vermont' / 'tree_stats.csv')\n",
    "stats = stats.loc[stats['Year'].isin([2016, 2017, 2018])]\n",
    "#stats['subplot_id'] = stats['PlotID'] * 10 + stats['SubplotID']\n",
    "stats['uniqueTreeID'] = (stats['PlotID'].astype(str) + '_' +\n",
    "    stats['SubplotID'].astype(str) + '_' +\n",
    "    stats['TreeID'].astype(str)\n",
    ")\n",
    "\n",
    "# join trees to measurement info\n",
    "trees = stats.merge(tree_info, on='uniqueTreeID', how='inner')\n",
    "# retain columns\n",
    "trees = trees[['PlotID_x','SubplotID_x','Year','Status','DBH','uniqueTreeID','Species','Azimuth','Distance']]\n",
    "trees = trees.rename(columns={'DBH':'dbh_inches','PlotID_x':'PlotID','SubplotID_x':'SubplotID'})\n",
    "# filter for live trees\n",
    "trees = trees.loc[trees['Status']==1]"
   ]
  },
  {
   "cell_type": "code",
   "execution_count": 105,
   "id": "346c8902",
   "metadata": {},
   "outputs": [],
   "source": [
    "tree_gpd = plots.merge(trees, on=['PlotID', 'SubplotID'], how='left')"
   ]
  },
  {
   "cell_type": "code",
   "execution_count": 112,
   "id": "fa1409be",
   "metadata": {},
   "outputs": [
    {
     "data": {
      "text/plain": [
       "261"
      ]
     },
     "execution_count": 112,
     "metadata": {},
     "output_type": "execute_result"
    }
   ],
   "source": [
    "len(tree_gpd)"
   ]
  },
  {
   "cell_type": "code",
   "execution_count": null,
   "id": "96c6c4ca",
   "metadata": {},
   "outputs": [],
   "source": [
    "# add taxonID column based on species codes\n",
    "tree_codes = {12:'balsam_fir',97: 'spruce',261:'hemlock',315:'maple',316:'maple',318:'maple',372:'birch',531:'beech'}\n",
    "tree_gpd['taxonID'] = tree_gpd['Species'].map(tree_codes)"
   ]
  },
  {
   "cell_type": "code",
   "execution_count": null,
   "id": "503fd786",
   "metadata": {},
   "outputs": [
    {
     "data": {
      "text/plain": [
       "array([ 12.,  97., 129., 261., 316., 318., 371., 372., 375., 403., 407.,\n",
       "       409., 531., 541., 743., 762., 802., 832., 833., 837.,  nan])"
      ]
     },
     "execution_count": 114,
     "metadata": {},
     "output_type": "execute_result"
    }
   ],
   "source": [
    "np.unique(tree_gpd['Species']) #TODO: add new species codes\n"
   ]
  }
 ],
 "metadata": {
  "kernelspec": {
   "display_name": "beech-env",
   "language": "python",
   "name": "python3"
  },
  "language_info": {
   "codemirror_mode": {
    "name": "ipython",
    "version": 3
   },
   "file_extension": ".py",
   "mimetype": "text/x-python",
   "name": "python",
   "nbconvert_exporter": "python",
   "pygments_lexer": "ipython3",
   "version": "3.12.7"
  }
 },
 "nbformat": 4,
 "nbformat_minor": 5
}
