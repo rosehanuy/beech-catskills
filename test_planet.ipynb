{
 "cells": [
  {
   "cell_type": "code",
   "execution_count": null,
   "metadata": {},
   "outputs": [
    {
     "name": "stdout",
     "output_type": "stream",
     "text": [
      "{\n",
      "  \"_links\": {\n",
      "    \"_self\": \"https://api.planet.com/data/v1/\",\n",
      "    \"asset-types\": \"https://api.planet.com/data/v1/asset-types/\",\n",
      "    \"item-types\": \"https://api.planet.com/data/v1/item-types/\",\n",
      "    \"spec\": \"https://api.planet.com/data/v1/spec\"\n",
      "  }\n",
      "}\n"
     ]
    }
   ],
   "source": [
    "import geopandas as gpd\n",
    "import matplotlib\n",
    "import numpy as np\n",
    "import xarray as xr\n",
    "import netCDF4\n",
    "import rioxarray\n",
    "import pandas as pd\n",
    "import os\n",
    "import json\n",
    "import requests\n",
    "\n",
    "from pathlib import Path\n",
    "root = Path.cwd()\n",
    "\n",
    "\n",
    "def p(data):\n",
    "    print(json.dumps(data, indent=2))\n",
    "\n",
    "\n",
    "os.environ['PL_API_KEY']='PLAK50ae7fa8d1ef48dc82d762d8b29745c2'\n",
    "PLANET_API_KEY = os.getenv('PL_API_KEY')\n",
    "\n",
    "\n",
    "BASE_URL = \"https://api.planet.com/data/v1\"\n",
    "session = requests.Session()\n",
    "session.auth = (PLANET_API_KEY, \"\")\n",
    "res = session.get(BASE_URL)"
   ]
  },
  {
   "cell_type": "code",
   "execution_count": 14,
   "metadata": {},
   "outputs": [],
   "source": [
    "stats_url = \"{}/stats\".format(BASE_URL)"
   ]
  },
  {
   "cell_type": "code",
   "execution_count": null,
   "metadata": {},
   "outputs": [],
   "source": [
    "item_types = [\"PSScene\", \"REOrthoTile\"]\n",
    "\n",
    "# filter types:\n",
    "# DateRangeFilter\n",
    "# RangeFilter\n",
    "# StringInFilter\n",
    "# PermissionFilter\n",
    "# GeometryFilter\n",
    "\n",
    "date_filter = {\n",
    "    \"type\": \"DateRangeFilter\", \n",
    "    \"field_name\": \"acquired\", # The field to filter on\n",
    "    \"config\": {\n",
    "        \"gte\": \"2019-01-01T00:00:00.000Z\",\n",
    "         \"lte\": \"2020-01-01T00:00:00.000Z\" \n",
    "    }\n",
    "}\n",
    "\n",
    "instrument_filter = {\n",
    "    \"type\": \"StringInFilter\",\n",
    "    \"field_name\": \"instrument\",\n",
    "    \"config\": [\"PS2\"]\n",
    "}\n",
    "\n",
    "\n",
    "# for multiple filters\n",
    "# and_filter = {\n",
    "#     \"type\": \"AndFilter\",\n",
    "#     \"config\": [instrument_filter, geometry_filter, date_filter]\n",
    "# }\n",
    "\n",
    "# Construct the request.\n",
    "request = {\n",
    "    \"item_types\" : item_types,\n",
    "    \"interval\" : \"year\",\n",
    "    \"filter\" : date_filter\n",
    "}\n",
    "\n"
   ]
  },
  {
   "cell_type": "code",
   "execution_count": null,
   "metadata": {},
   "outputs": [],
   "source": [
    "quick_url = \"{}/quick-search\".format(BASE_URL)\n",
    "# Setup Item Types\n",
    "item_types = [\"PSScene\"]\n",
    "\n",
    "\n",
    "geom = {\n",
    "    \"type\": \"Polygon\",\n",
    "    \"coordinates\": [\n",
    "      [\n",
    "        [\n",
    "          -125.29632568359376,\n",
    "          48.37084770238366\n",
    "        ],\n",
    "        [\n",
    "          -125.29632568359376,\n",
    "          49.335861591104106\n",
    "        ],\n",
    "        [\n",
    "          -123.2391357421875,\n",
    "          49.335861591104106\n",
    "        ],\n",
    "        [\n",
    "          -123.2391357421875,\n",
    "          48.37084770238366\n",
    "        ],\n",
    "        [\n",
    "          -125.29632568359376,\n",
    "          48.37084770238366\n",
    "        ]\n",
    "      ]\n",
    "    ]\n",
    "  }\n",
    "\n",
    "# Setup the geometry filter\n",
    "geometry_filter = {\n",
    "    \"type\": \"GeometryFilter\",\n",
    "    \"field_name\": \"geometry\",\n",
    "    \"config\": geom\n",
    "}\n",
    "\n",
    "# Setup the request\n",
    "request = {\n",
    "    \"item_types\" : item_types,\n",
    "    \"filter\" : geometry_filter\n",
    "}\n",
    "\n",
    "\n",
    "\n",
    "# Send the POST request to the API quick search endpoint\n",
    "res = session.post(quick_url, json=request)\n",
    "\n",
    "# Assign the response to a variable\n",
    "geojson = res.json()\n",
    "\n",
    "# Print the response\n",
    "p(list(geojson.items()))"
   ]
  },
  {
   "cell_type": "code",
   "execution_count": 62,
   "metadata": {},
   "outputs": [
    {
     "name": "stdout",
     "output_type": "stream",
     "text": [
      "\"20241029_183727_52_24b0\"\n",
      "[]\n"
     ]
    }
   ],
   "source": [
    "features = geojson['features']\n",
    "\n",
    "# Get the first result's feature\n",
    "feature = features[0]\n",
    "\n",
    "# Print the ID\n",
    "p(feature[\"id\"])\n",
    "\n",
    "# Print the permissions\n",
    "p(feature[\"_permissions\"])"
   ]
  },
  {
   "cell_type": "code",
   "execution_count": 67,
   "metadata": {},
   "outputs": [
    {
     "data": {
      "text/plain": [
       "{'_links': {'_self': 'https://api.planet.com/data/v1/item-types/PSScene/items/20241029_183727_52_24b0',\n",
       "  'assets': 'https://api.planet.com/data/v1/item-types/PSScene/items/20241029_183727_52_24b0/assets/',\n",
       "  'thumbnail': 'https://tiles.planet.com/data/v1/item-types/PSScene/items/20241029_183727_52_24b0/thumb'},\n",
       " '_permissions': [],\n",
       " 'assets': ['basic_analytic_4b',\n",
       "  'basic_analytic_4b_rpc',\n",
       "  'basic_analytic_4b_xml',\n",
       "  'basic_analytic_8b',\n",
       "  'basic_analytic_8b_xml',\n",
       "  'basic_udm2',\n",
       "  'ortho_analytic_4b',\n",
       "  'ortho_analytic_4b_sr',\n",
       "  'ortho_analytic_4b_xml',\n",
       "  'ortho_analytic_8b',\n",
       "  'ortho_analytic_8b_sr',\n",
       "  'ortho_analytic_8b_xml',\n",
       "  'ortho_udm2',\n",
       "  'ortho_visual'],\n",
       " 'geometry': {'coordinates': [[[-123.70539090323479, 48.77089816052452],\n",
       "    [-123.76266786653434, 48.60862025082716],\n",
       "    [-123.35356097196347, 48.543748586800845],\n",
       "    [-123.2946925327867, 48.70524097276904],\n",
       "    [-123.70539090323479, 48.77089816052452]]],\n",
       "  'type': 'Polygon'},\n",
       " 'id': '20241029_183727_52_24b0',\n",
       " 'properties': {'acquired': '2024-10-29T18:37:27.521288Z',\n",
       "  'anomalous_pixels': 0,\n",
       "  'clear_confidence_percent': 43,\n",
       "  'clear_percent': 0,\n",
       "  'cloud_cover': 1,\n",
       "  'cloud_percent': 100,\n",
       "  'ground_control': False,\n",
       "  'gsd': 3.5,\n",
       "  'heavy_haze_percent': 0,\n",
       "  'instrument': 'PSB.SD',\n",
       "  'item_type': 'PSScene',\n",
       "  'light_haze_percent': 0,\n",
       "  'pixel_resolution': 3,\n",
       "  'provider': 'planetscope',\n",
       "  'published': '2024-10-30T06:24:32Z',\n",
       "  'publishing_stage': 'preview',\n",
       "  'quality_category': 'test',\n",
       "  'satellite_azimuth': 104.8,\n",
       "  'satellite_id': '24b0',\n",
       "  'shadow_percent': 0,\n",
       "  'snow_ice_percent': 0,\n",
       "  'strip_id': '7662332',\n",
       "  'sun_azimuth': 158.7,\n",
       "  'sun_elevation': 25.2,\n",
       "  'updated': '2024-10-30T08:04:15Z',\n",
       "  'view_angle': 2.7,\n",
       "  'visible_confidence_percent': 58,\n",
       "  'visible_percent': 0},\n",
       " 'type': 'Feature'}"
      ]
     },
     "execution_count": 67,
     "metadata": {},
     "output_type": "execute_result"
    }
   ],
   "source": [
    "feature"
   ]
  },
  {
   "cell_type": "code",
   "execution_count": 63,
   "metadata": {},
   "outputs": [
    {
     "data": {
      "text/plain": [
       "'https://api.planet.com/data/v1/item-types/PSScene/items/20241029_183727_52_24b0/assets/'"
      ]
     },
     "execution_count": 63,
     "metadata": {},
     "output_type": "execute_result"
    }
   ],
   "source": [
    "assets_url = feature['_links']['assets']\n",
    "\n",
    "assets_url"
   ]
  },
  {
   "cell_type": "code",
   "execution_count": 66,
   "metadata": {},
   "outputs": [
    {
     "name": "stdout",
     "output_type": "stream",
     "text": [
      "dict_keys([])\n"
     ]
    }
   ],
   "source": [
    "res = session.get(assets_url)\n",
    "\n",
    "# Assign a variable to the response\n",
    "assets = res.json()\n",
    "    \n",
    "# Print the asset types that are available\n",
    "print(assets.keys())"
   ]
  }
 ],
 "metadata": {
  "kernelspec": {
   "display_name": "rs-env",
   "language": "python",
   "name": "python3"
  },
  "language_info": {
   "codemirror_mode": {
    "name": "ipython",
    "version": 3
   },
   "file_extension": ".py",
   "mimetype": "text/x-python",
   "name": "python",
   "nbconvert_exporter": "python",
   "pygments_lexer": "ipython3",
   "version": "3.12.5"
  }
 },
 "nbformat": 4,
 "nbformat_minor": 2
}
