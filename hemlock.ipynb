{
 "cells": [
  {
   "cell_type": "code",
   "execution_count": 1,
   "id": "0ea02c93",
   "metadata": {},
   "outputs": [],
   "source": [
    "import planetary_computer\n",
    "from pystac_client import Client\n",
    "import stackstac\n",
    "import xarray as xr\n",
    "import rioxarray as rio\n",
    "import numpy as np\n",
    "import pandas as pd\n",
    "import geopandas as gpd\n",
    "import os\n",
    "\n",
    "\n",
    "import matplotlib.pyplot as plt\n",
    "import numpy as np\n",
    "import xarray as xr\n",
    "import rioxarray as rio\n",
    "from rasterio.features import rasterize\n",
    "from rasterio.enums import Resampling\n",
    "\n",
    "from shapely import Point\n",
    "import math as math\n",
    "\n",
    "import pandas as pd\n",
    "from pathlib import Path\n",
    "from pystac_client import Client\n",
    "import folium\n",
    "import gc\n",
    "\n",
    "root = Path.cwd()"
   ]
  },
  {
   "cell_type": "code",
   "execution_count": null,
   "id": "1a16fd51",
   "metadata": {},
   "outputs": [],
   "source": [
    "class EviTracker():\n",
    "    def __init__(self,boundary,species,tree_layer,year,output_filepath):\n",
    "        self.boundary = boundary\n",
    "        self.species = species\n",
    "        self.tree_layer = tree_layer\n",
    "        self.year = year\n",
    "        self.output_filepath = output_filepath\n",
    "\n",
    "        if self.boundary.crs.to_epsg() != 26918:\n",
    "             self.boundary = self.boundary.to_crs(26918)\n",
    "\n",
    "    def find_imagery(self,m1,m2):  \n",
    "        self.m1 = m1\n",
    "\n",
    "        self.bbox_4326 = tuple(self.boundary.to_crs(4326).total_bounds)\n",
    "        self.bbox_utm = tuple(self.boundary.total_bounds)\n",
    "\n",
    "        catalog = Client.open(\n",
    "                \"https://planetarycomputer.microsoft.com/api/stac/v1\",\n",
    "                modifier=planetary_computer.sign_inplace,\n",
    "            )\n",
    "               \n",
    "\n",
    "        items = catalog.search(\n",
    "            bbox=self.bbox_4326,\n",
    "            collections=[\"sentinel-2-l2a\"],\n",
    "            datetime=f\"{self.year}-{m1}-01/{self.year}-{m2}-30\",\n",
    "            query= {\"eo:cloud_cover\":{\"lt\":20}} #\"s2:mgrs_tile\": {\"eq\": tile_id},\n",
    "        ).item_collection()\n",
    "        \n",
    "        print(f'found {len(items)} images:')\n",
    "        for feature in items:\n",
    "            cloud_cover = feature.properties.get(\"eo:cloud_cover\", \"N/A\")\n",
    "            baseline = feature.properties.get(\"s2:processing_baseline\")\n",
    "            print(f\"Scene {feature.id} - Cloud cover: {cloud_cover}%, Baseline: {baseline}\")\n",
    "\n",
    "        self.items = items\n",
    "        \n",
    "    def extract_evi(self,harmonize=False):\n",
    "            \n",
    "        stack = stackstac.stack(\n",
    "            self.items,\n",
    "            epsg=26918,\n",
    "            resolution=10,\n",
    "            bounds=self.bbox_utm,\n",
    "            assets=['B02','B04','B8A','SCL']).where(lambda x: x > 0, other=np.nan)\n",
    "\n",
    "       \n",
    "        # crop to boundary\n",
    "        stack = stack.rio.clip(geometries=self.boundary.geometry)\n",
    "\n",
    "        # set time coord to just the day \n",
    "        stack  = stack.assign_coords(time=stack['time'].dt.floor('D'))\n",
    "\n",
    "        # group data from same day together (mosaics adjacent tiles)\n",
    "        mosaic = stack.groupby('time').max(dim='time',skipna=True)\n",
    "        print(f'number of days: {mosaic.sizes['time']}')\n",
    "\n",
    "        scl_band = mosaic.sel(band='SCL')\n",
    "        # saturated/defective, cloud shadows, water, cloud medium, cloud high, cirrus, snow\n",
    "        masked = mosaic.where(~scl_band.isin([1, 3, 6, 8, 9, 10, 11]))\n",
    "        \n",
    "        # drop SCL band\n",
    "        masked = masked.drop_sel(band='SCL')\n",
    "\n",
    "        self.masked_data = masked\n",
    "\n",
    "        \n",
    "        # if old baseline, apply offset factor to align with newer baselines (4.0+)\n",
    "        if harmonize:\n",
    "            scaled = (masked + 1000) / 10000  \n",
    "            scaled = scaled.clip(min=0,max=1)\n",
    "        else: \n",
    "            scaled = masked / 10000\n",
    "            scaled = scaled.clip(min=0,max=1)\n",
    "    \n",
    "        red = scaled.sel(band=\"B04\")\n",
    "        blue = scaled.sel(band='B02')\n",
    "        nir = scaled.sel(band='B8A')\n",
    "\n",
    "        # compute evi\n",
    "        denominator = nir + 6 * red - 7.5 * blue + 1\n",
    "        evi = 2.5 * ((nir - red) / denominator)\n",
    "        #evi = 2.5 * ((nir - red) / (nir + 6 * red - 7.5 * blue + 1))\n",
    "        evi = evi.clip(min=-1,max=1)\n",
    "        # create median composite\n",
    "        evi = evi.median('time')\n",
    "\n",
    "        # make sure rasters are aligned, reproject if not\n",
    "        if evi.rio.crs == self.tree_layer.rio.crs and evi.rio.resolution() == self.tree_layer.rio.resolution() and np.array_equal(evi.x, self.tree_layer.x) and np.array_equal(evi.y, self.tree_layer.y):\n",
    "            tree_mask = self.tree_layer\n",
    "        else:\n",
    "            print('reprojecting tree layer')\n",
    "            tree_mask = self.tree_layer.rio.reproject_match(evi, resampling=Resampling.bilinear)\n",
    "            \n",
    "            \n",
    "        \n",
    "        # filter for just target tree species\n",
    "        evi_masked = evi.where(tree_mask.isel(band=0).notnull())\n",
    "\n",
    "        # write to tif\n",
    "        evi_masked.rio.to_raster(self.output_filepath / f'{self.species}_evi_{self.year}_sentinel_{self.m1}.tif')\n",
    "        print(f'{self.year} {self.species} evi save to {self.output_filepath} / {self.species}_evi_{self.year}_sentinel_{self.m1}.tif')"
   ]
  },
  {
   "cell_type": "code",
   "execution_count": 5,
   "id": "aac8676b",
   "metadata": {},
   "outputs": [],
   "source": [
    "root = Path.cwd()\n",
    "boundary = gpd.read_file(root / 'catskills' / 'catskills_boundary.gpkg')\n",
    "#tree_layer = xr.open_dataarray(root / 'hemlock' / 'hemlock_extent_2021_utm_10m.tif')\n",
    "output_filepath = root / 'sentinel_data' / 'catskills' "
   ]
  },
  {
   "cell_type": "code",
   "execution_count": 3,
   "id": "b0582c55",
   "metadata": {},
   "outputs": [],
   "source": [
    "tree_layer = xr.open_dataarray(root / 'sentinel_data' / 'catskills' / 'predictions_mosaic.tif')\n",
    "tree_layer = tree_layer.where(tree_layer>=0.8)"
   ]
  },
  {
   "cell_type": "code",
   "execution_count": 11,
   "id": "9bd3d9aa",
   "metadata": {},
   "outputs": [],
   "source": [
    "tree_layer.rio.to_raster(root / 'sentinel_data' / 'catskills' / 'beech_extent_80pctprob.tif')"
   ]
  },
  {
   "cell_type": "code",
   "execution_count": 9,
   "id": "9acc3523",
   "metadata": {},
   "outputs": [
    {
     "name": "stdout",
     "output_type": "stream",
     "text": [
      "found 6 images:\n",
      "Scene S2A_MSIL2A_20240827T154931_R054_T18TWM_20240827T221452 - Cloud cover: 5.851104%, Baseline: 05.11\n",
      "Scene S2A_MSIL2A_20240827T154931_R054_T18TWM_20240827T214948 - Cloud cover: 2.998345%, Baseline: 05.11\n",
      "Scene S2A_MSIL2A_20240827T154931_R054_T18TVM_20240827T221452 - Cloud cover: 2.519192%, Baseline: 05.11\n",
      "Scene S2A_MSIL2A_20240824T153931_R011_T18TWM_20240824T221958 - Cloud cover: 14.052601%, Baseline: 05.11\n",
      "Scene S2A_MSIL2A_20240814T153941_R011_T18TWM_20240814T223950 - Cloud cover: 15.196332%, Baseline: 05.11\n",
      "Scene S2A_MSIL2A_20240728T154941_R054_T18TVM_20240728T235651 - Cloud cover: 8.811278%, Baseline: 05.11\n"
     ]
    }
   ],
   "source": [
    "#hemlock = EviTracker(boundary=boundary,tree_layer=tree_layer,year=2016,output_filepath=output_filepath)\n",
    "\n",
    "beech = EviTracker(boundary=boundary,species='beech',tree_layer=tree_layer,year=2024,output_filepath=output_filepath)\n",
    "\n",
    "\n",
    "beech.find_imagery(m1='07',m2='08')\n",
    "\n",
    "#hemlock.extract_evi()"
   ]
  },
  {
   "cell_type": "code",
   "execution_count": 10,
   "id": "0bb6c465",
   "metadata": {},
   "outputs": [
    {
     "name": "stdout",
     "output_type": "stream",
     "text": [
      "number of days: 4\n",
      "2024 beech evi save to c:\\Users\\roseh\\OneDrive - Hunter - CUNY\\Documents\\beech_tree\\sentinel_data\\catskills / beech_evi_2024_sentinel_07.tif\n"
     ]
    }
   ],
   "source": [
    "beech.extract_evi()"
   ]
  },
  {
   "cell_type": "code",
   "execution_count": 12,
   "id": "9a790a1c",
   "metadata": {},
   "outputs": [],
   "source": [
    "beech_2022 = xr.open_dataarray(root / 'sentinel_data' / 'catskills' / 'beech_evi_2022_sentinel_07.tif')\n",
    "beech_2024 = xr.open_dataarray(root / 'sentinel_data' / 'catskills' / 'beech_evi_2024_sentinel_07.tif')"
   ]
  },
  {
   "cell_type": "code",
   "execution_count": 13,
   "id": "5b637465",
   "metadata": {},
   "outputs": [],
   "source": [
    "diff = beech_2024 - beech_2022"
   ]
  },
  {
   "cell_type": "code",
   "execution_count": 17,
   "id": "72856b90",
   "metadata": {},
   "outputs": [
    {
     "data": {
      "text/plain": [
       "np.float64(-0.05321603453576693)"
      ]
     },
     "execution_count": 17,
     "metadata": {},
     "output_type": "execute_result"
    }
   ],
   "source": [
    "np.nanmean(diff)"
   ]
  },
  {
   "cell_type": "code",
   "execution_count": 14,
   "id": "098e4741",
   "metadata": {},
   "outputs": [],
   "source": [
    "diff.rio.to_raster(root / 'sentinel_data' / 'catskills' / 'diff_evi_2022_2024.tif')"
   ]
  },
  {
   "cell_type": "code",
   "execution_count": 64,
   "id": "af5b7657",
   "metadata": {},
   "outputs": [],
   "source": [
    "hemlock_2021 = xr.open_dataarray(root / 'hemlock' / 'hemlock_evi_2021_sentinel_november.tif')\n",
    "hemlock_2016 = xr.open_dataarray(root / 'hemlock' / 'hemlock_evi_2017_sentinel_november.tif')"
   ]
  },
  {
   "cell_type": "code",
   "execution_count": 71,
   "id": "45cb9af6",
   "metadata": {},
   "outputs": [
    {
     "data": {
      "text/plain": [
       "np.float64(-0.0019628819544040164)"
      ]
     },
     "execution_count": 71,
     "metadata": {},
     "output_type": "execute_result"
    }
   ],
   "source": [
    "diff_17_21 = xr.open_dataarray(root / 'hemlock' / 'diff_2017_2021_sentinel_november.tif')\n",
    "\n",
    "np.nanmean(diff_17_21)"
   ]
  },
  {
   "cell_type": "code",
   "execution_count": 72,
   "id": "ea58791d",
   "metadata": {},
   "outputs": [
    {
     "name": "stdout",
     "output_type": "stream",
     "text": [
      "2021:0.2970052620398803, 2016: 0.2989838050854756\n"
     ]
    }
   ],
   "source": [
    "print(f'2021:{np.nanmean(hemlock_2021)}, 2016: {np.nanmean(hemlock_2016)}')"
   ]
  },
  {
   "cell_type": "code",
   "execution_count": 65,
   "id": "1893b495",
   "metadata": {},
   "outputs": [],
   "source": [
    "diff = hemlock_2021 - hemlock_2016"
   ]
  },
  {
   "cell_type": "code",
   "execution_count": 66,
   "id": "6d5e9199",
   "metadata": {},
   "outputs": [],
   "source": [
    "diff.rio.to_raster(root / 'hemlock' / 'diff_2017_2021_sentinel_november.tif')"
   ]
  },
  {
   "cell_type": "code",
   "execution_count": null,
   "id": "fc6060d8",
   "metadata": {},
   "outputs": [],
   "source": [
    "# continuous conifer raster\n",
    "\n",
    "extent_2021 = xr.open_dataarray(root / 'hemlock' / 'hemlock_extent_2021.tif')\n",
    "extent_2021 = xr.where(extent_2021 == 2, 1, 0)\n",
    "extent_2021 = extent_2021.rio.write_crs(6537).rio.set_spatial_dims(x_dim='x',y_dim='y').rio.write_coordinate_system()\n",
    "extent_2021 = extent_2021.astype('float32')\n",
    "percent_hemlock = extent_2021.rio.reproject_match(diff,resampling=Resampling.average)\n",
    "\n",
    "percent_hemlock.rio.to_raster(root / 'hemlock' / 'percent_hemlock_2021.tif')"
   ]
  },
  {
   "cell_type": "code",
   "execution_count": 49,
   "id": "e91ca660",
   "metadata": {},
   "outputs": [],
   "source": [
    "evi_2016 = xr.open_dataarray(root / 'hemlock' / 'hemlock_evi_2016_sentinel_november.tif')\n",
    "evi_2021 = xr.open_dataarray(root / 'hemlock' / 'hemlock_evi_2021_sentinel_november.tif')\n",
    "#evi_2024 = xr.open_dataarray(root / 'hemlock' / 'hemlock_evi_2024_sentinel_november_notoffset.tif')\n",
    "\n",
    "cc = xr.open_dataarray(root / 'hemlock' / 'percent_hemlock_2021.tif')"
   ]
  },
  {
   "cell_type": "code",
   "execution_count": 50,
   "id": "7b999144",
   "metadata": {},
   "outputs": [],
   "source": [
    "t = xr.concat([evi_2016,evi_2021,cc],dim='band')"
   ]
  },
  {
   "cell_type": "code",
   "execution_count": 52,
   "id": "1d4bd8fc",
   "metadata": {},
   "outputs": [],
   "source": [
    "\n",
    "\n",
    "evi_2016 = t.isel(band=0).values\n",
    "evi_2021 = t.isel(band=1).values\n",
    "hemlock = t.isel(band=2).values\n",
    "\n",
    "# Flatten to 1D arrays\n",
    "evi_2016_flat = evi_2016.ravel()\n",
    "evi_2021_flat = evi_2021.ravel()\n",
    "hemlock_flat = hemlock.ravel()\n",
    "\n",
    "# Create DataFrame\n",
    "df = pd.DataFrame({\n",
    "    \"EVI_2016\": evi_2016_flat,\n",
    "    \"EVI_2021\": evi_2021_flat,\n",
    "    \"Percent_Hemlock\": hemlock_flat\n",
    "})\n",
    "\n",
    "df = df.dropna()\n",
    "\n",
    "df['Percent_Hemlock'] = df['Percent_Hemlock'] * 100"
   ]
  },
  {
   "cell_type": "code",
   "execution_count": 53,
   "id": "b99305b3",
   "metadata": {},
   "outputs": [],
   "source": [
    "bins = [0, 25, 50, 75, 100]\n",
    "labels = [\"0-25%\", \"25-50%\", \"50-75%\", \"75-100%\"]\n",
    "df[\"Hemlock_Bin\"] = pd.cut(df[\"Percent_Hemlock\"], bins=bins, labels=labels, include_lowest=True)\n",
    "\n",
    "df_long = df.melt(\n",
    "    id_vars=\"Hemlock_Bin\",\n",
    "    value_vars=[\"EVI_2016\", \"EVI_2021\"],\n",
    "    var_name=\"Year\",\n",
    "    value_name=\"EVI\"\n",
    ")"
   ]
  },
  {
   "cell_type": "code",
   "execution_count": 58,
   "id": "079b8afe",
   "metadata": {},
   "outputs": [
    {
     "data": {
      "image/png": "[encoded data removed]",
      "text/plain": [
       "<Figure size 1000x600 with 1 Axes>"
      ]
     },
     "metadata": {},
     "output_type": "display_data"
    }
   ],
   "source": [
    "plt.figure(figsize=(10,6))\n",
    "import seaborn as sns\n",
    "sns.boxplot(data=df_long, x=\"Hemlock_Bin\", y=\"EVI\", hue=\"Year\", showfliers=False)\n",
    "\n",
    "plt.xlabel(\"Percent Hemlock per Pixel\")\n",
    "plt.ylabel(\"EVI\")\n",
    "plt.title(\"EVI by Percent Hemlock Cover\")\n",
    "plt.legend(title=\"Year\", loc='upper left')\n",
    "plt.tight_layout()\n",
    "plt.show()"
   ]
  },
  {
   "cell_type": "code",
   "execution_count": null,
   "id": "3e466166",
   "metadata": {},
   "outputs": [],
   "source": [
    "## landsat\n",
    "# class EviTracker():\n",
    "#     def __init__(self,boundary,tree_layer,year,output_filepath):\n",
    "#         self.boundary = boundary\n",
    "#         self.tree_layer = tree_layer\n",
    "#         self.year = year\n",
    "#         self.output_filepath = output_filepath\n",
    "\n",
    "#         if self.boundary.crs.to_epsg() != 26918:\n",
    "#              self.boundary = self.boundary.to_crs(26918)\n",
    "\n",
    "#     def get_cloud_mask(self, a):\n",
    "#         mask_values= np.unique(a.sel(band='qa_pixel'))\n",
    "        \n",
    "#         # same bits for Landsat 5, 7, 8 & 9\n",
    "#         CLOUD = 1 << 3\n",
    "#         CLOUD_SHADOW = 1 << 4\n",
    "#         SNOW = 1 << 5\n",
    "\n",
    "#         keep_values = list()\n",
    "#         for v in mask_values[:-1]:\n",
    "#                 v_int = int(v)\n",
    "#                 if ((v_int & CLOUD) == 0) and ((v_int & CLOUD_SHADOW) == 0) and ((v_int & SNOW) == 0):\n",
    "#                         keep_values.append(v)\n",
    "\n",
    "#         return keep_values\n",
    "\n",
    "#     def extract_evi(self,harmonize=True):  # harmonize = True makes data from after 2014 comparable to data before 2014\n",
    "\n",
    "#         bbox_4326 = tuple(self.boundary.to_crs(4326).total_bounds)\n",
    "#         bbox_utm = tuple(self.boundary.total_bounds)\n",
    "\n",
    "#         catalog = Client.open(\n",
    "#             \"https://planetarycomputer.microsoft.com/api/stac/v1\",\n",
    "#             modifier=planetary_computer.sign_inplace,\n",
    "#         )\n",
    "\n",
    "#         if self.year <= 2014:\n",
    "#             platform = {\"in\": [\"landsat-7\"]} # avoid landsat 5 TM sensor\n",
    "#         else:\n",
    "#             platform =  {\"in\": [\"landsat-8\", \"landsat-9\"]} # avoid landsat 7 \n",
    "\n",
    "#         items = catalog.search(\n",
    "#             bbox=bbox_4326,\n",
    "#             collections=[\"landsat-c2-l2\"],\n",
    "#             datetime=f\"{self.year-1}-11-01/{self.year}-03-31\",\n",
    "#             query= {\"eo:cloud_cover\":{\"lt\":20},\n",
    "#                     \"platform\": platform} \n",
    "#         ).item_collection()\n",
    "\n",
    "#         print(f'found {len(items)} images:')\n",
    "#         for feature in items:\n",
    "#             cloud_cover = feature.properties.get(\"eo:cloud_cover\", \"N/A\")\n",
    "#             print(f\"Scene {feature.id} - Cloud cover: {cloud_cover}%\")\n",
    "\n",
    "#         stack = stackstac.stack(\n",
    "#                     items,\n",
    "#                     epsg=26918,\n",
    "#                     resolution=30,\n",
    "#                     bounds=bbox_utm,\n",
    "#                     assets=[\"nir08\", \"red\",\"blue\", \"qa_pixel\"]).where(lambda x: x > 0, other=np.nan)\n",
    "\n",
    "                    \n",
    "#         # crop to boundary\n",
    "#         stack = stack.rio.clip(geometries=self.boundary.geometry)\n",
    "\n",
    "#         # get cloud mask\n",
    "#         cloud_mask = self.get_cloud_mask(stack)\n",
    "#         qa_band = stack.sel(band='qa_pixel')\n",
    "#         valid = qa_band.isin(cloud_mask) \n",
    "#         # apply cloud mask\n",
    "#         masked = stack.where(valid)\n",
    "\n",
    "#         # convert to float32 to save memory\n",
    "#         masked = masked.astype('float32')\n",
    "\n",
    "#         red = masked.sel(band=\"red\")\n",
    "#         blue = masked.sel(band='blue')\n",
    "#         nir = masked.sel(band='nir08')\n",
    "\n",
    "#         # harmonize ETM to OLI\n",
    "#         # coefficients from Roy (2016)\n",
    "#         # blue: OLI = 0.0173 + 0.8707 ETM +\n",
    "#         # red: OLI = 0.0107 + 0.9175 ETM +\n",
    "#         # nir08: OLI = 0.0374 + 0.9281 ETM +\n",
    "\n",
    "#         if self.year < 2014 and harmonize is True:\n",
    "#              blue = 0.0173 + 0.8707 * blue\n",
    "#              red = 0.0107 + 0.9175 * red\n",
    "#              nir = 0.0374 + 0.9281 * nir\n",
    "             \n",
    "#         # compute evi\n",
    "#         denominator = nir + 6 * red - 7.5 * blue + 1\n",
    "#         evi = 2.5 * ((nir - red) / denominator)\n",
    "#         #evi = 2.5 * ((nir - red) / (nir + 6 * red - 7.5 * blue + 1))\n",
    "#         evi = evi.clip(min=-1,max=1)\n",
    "#         # create median composite\n",
    "#         evi = evi.median('time')\n",
    "\n",
    "#         # make sure rasters are aligned, reproject if not\n",
    "#         if evi.rio.crs == self.tree_layer.rio.crs and evi.rio.resolution() == self.tree_layer.rio.resolution() and np.array_equal(evi.x, self.tree_layer.x) and np.array_equal(evi.y, self.tree_layer.y):\n",
    "#             tree_mask = self.tree_layer\n",
    "#         else:\n",
    "#             tree_mask = self.tree_layer.rio.reproject_match(evi, resampling=Resampling.bilinear)\n",
    "        \n",
    "#         # filter for just target tree species\n",
    "#         evi_masked = evi.where(tree_mask.isel(band=0).notnull())\n",
    "\n",
    "#         # write to tif\n",
    "#         evi_masked.rio.to_raster(self.output_filepath / f'hemlock_evi_{self.year}.tif')\n",
    "#         print(f'{self.year} hemlock evi save to {self.output_filepath} / hemlock_evi_{self.year}.tif')\n",
    "        "
   ]
  }
 ],
 "metadata": {
  "kernelspec": {
   "display_name": "beech-env",
   "language": "python",
   "name": "python3"
  },
  "language_info": {
   "codemirror_mode": {
    "name": "ipython",
    "version": 3
   },
   "file_extension": ".py",
   "mimetype": "text/x-python",
   "name": "python",
   "nbconvert_exporter": "python",
   "pygments_lexer": "ipython3",
   "version": "3.12.7"
  }
 },
 "nbformat": 4,
 "nbformat_minor": 5
}
