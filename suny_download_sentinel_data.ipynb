{
 "cells": [
  {
   "cell_type": "code",
   "execution_count": 1,
   "metadata": {},
   "outputs": [],
   "source": [
    "import geopandas as gpd\n",
    "import matplotlib.pyplot as plt\n",
    "import numpy as np\n",
    "import xarray as xr\n",
    "import rioxarray as rio\n",
    "\n",
    "import pandas as pd\n",
    "from pathlib import Path\n",
    "from pystac_client import Client\n",
    "import folium\n",
    "\n",
    "from src.utils import SentinelDownloader\n",
    "\n",
    "root = Path.cwd()"
   ]
  },
  {
   "cell_type": "code",
   "execution_count": 2,
   "metadata": {},
   "outputs": [],
   "source": [
    "p = gpd.read_file(root / 'suny' / 'tree_points_2016_2013.gpkg')\n",
    "p = p.to_crs(26918)\n",
    "\n",
    "p1 = p.loc[p.YEAR==2016]"
   ]
  },
  {
   "cell_type": "code",
   "execution_count": null,
   "metadata": {},
   "outputs": [],
   "source": [
    "sn_2019 = SentinelDownloader(2019,p1,26918,drop='last')\n",
    "sn_2019.plot_initial_data()   # use october from 2019, rest from 2018\n",
    "\n",
    "# get two october images from 2019 data\n",
    "sn_2019_oct = sn_2019.cloud_masked_and_scaled.isel(time=[34,36])"
   ]
  },
  {
   "cell_type": "code",
   "execution_count": null,
   "metadata": {},
   "outputs": [
    {
     "name": "stdout",
     "output_type": "stream",
     "text": [
      "number of low cloud images: 117\n"
     ]
    }
   ],
   "source": [
    "sn = SentinelDownloader(2018,p1,26918,drop='last')\n",
    "sn.plot_initial_data()\n",
    "\n",
    "# get most complete images from 2018 data\n",
    "sn_select = sn.cloud_masked_and_scaled.isel(time=[7,10,12,19,20,22,30,32,35,36,38])"
   ]
  },
  {
   "cell_type": "code",
   "execution_count": null,
   "metadata": {},
   "outputs": [],
   "source": [
    "# adjust time coordinates from 2019 to 2018\n",
    "sn_2019_oct['time'] = sn_2019_oct.time.to_index() - pd.Timedelta(days=365)\n",
    "# add october data to 2018 time series\n",
    "combine = sn_select.combine_first(sn_2019_oct)\n",
    "# set complete data attribute\n",
    "sn.complete_data = combine\n",
    "\n",
    "sn.save_bands_data(root=root,filename='2018_suny_dmf')"
   ]
  },
  {
   "cell_type": "code",
   "execution_count": 23,
   "metadata": {},
   "outputs": [],
   "source": [
    "sn.get_indices()\n",
    "sn.save_vi_data(root=root,filename='2018_suny_dmf')"
   ]
  },
  {
   "cell_type": "code",
   "execution_count": 27,
   "metadata": {},
   "outputs": [
    {
     "name": "stdout",
     "output_type": "stream",
     "text": [
      "Band 0: min: 0.0001, max 1.3464\n",
      "Band 1: min: 0.0001, max 1.344\n",
      "Band 2: min: 0.0003, max 1.3584\n",
      "Band 3: min: 0.0001, max 1.2766\n",
      "Band 4: min: 0.0001, max 1.2085\n",
      "Band 5: min: 0.0001, max 1.1759\n",
      "Band 6: min: 0.0001, max 1.3112\n",
      "Band 7: min: 0.0001, max 1.1289\n",
      "Band 8: min: 0.0031, max 0.6571\n",
      "Band 9: min: 0.0001, max 0.5714\n"
     ]
    }
   ],
   "source": [
    "sn.check_data_range(sn.complete_data)"
   ]
  }
 ],
 "metadata": {
  "kernelspec": {
   "display_name": "beech-env",
   "language": "python",
   "name": "python3"
  },
  "language_info": {
   "codemirror_mode": {
    "name": "ipython",
    "version": 3
   },
   "file_extension": ".py",
   "mimetype": "text/x-python",
   "name": "python",
   "nbconvert_exporter": "python",
   "pygments_lexer": "ipython3",
   "version": "3.12.7"
  }
 },
 "nbformat": 4,
 "nbformat_minor": 2
}
