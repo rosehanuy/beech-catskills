{
 "cells": [
  {
   "cell_type": "code",
   "execution_count": 1,
   "metadata": {},
   "outputs": [],
   "source": [
    "import xarray as xr\n",
    "import rioxarray\n",
    "import pandas as pd\n",
    "import os\n",
    "from pathlib import Path\n",
    "import numpy as np\n",
    "\n",
    "root = Path.cwd()"
   ]
  },
  {
   "cell_type": "code",
   "execution_count": 2,
   "metadata": {},
   "outputs": [],
   "source": [
    "epsg = 26919\n",
    "site_name = 'BART'\n",
    "year = '2019'\n",
    "\n",
    "b = xr.open_dataarray(root / 'sentinel_data' / f'{year}_{site_name}.nc')\n",
    "b = b.rio.write_crs(epsg).rio.set_spatial_dims(x_dim=\"x\",y_dim=\"y\",).rio.write_coordinate_system()"
   ]
  },
  {
   "cell_type": "code",
   "execution_count": null,
   "metadata": {},
   "outputs": [],
   "source": [
    "# select spring, summer, fall and winter images\n",
    "# spring: 5/8 & 6/7\n",
    "# summer: 8/1, 8/6 & 8/26\n",
    "# fall: 10/6, 10/15 & 11/4\n",
    "\n",
    "b.isel(band=4).plot(col='time',col_wrap=4)"
   ]
  },
  {
   "cell_type": "code",
   "execution_count": 17,
   "metadata": {},
   "outputs": [],
   "source": [
    "# spring: 5/8 & 6/7  [6,7]\n",
    "# summer: 8/1, 8/6 & 8/26    [14,15,16]\n",
    "# fall: 10/5, 10/15 & 11/4   [19,20,21]"
   ]
  },
  {
   "cell_type": "code",
   "execution_count": 41,
   "metadata": {},
   "outputs": [],
   "source": [
    "# get median seasonal values, drop time dimension, add prefix to band names\n",
    "def get_season_image(a,season,indices,num_months):\n",
    "    a = a.isel(time=slice(indices[0],indices[1])).resample(time=num_months).median()\n",
    "    a = a.squeeze('time').reset_coords('time',drop=True)\n",
    "    \n",
    "    return a.assign_coords({'band':[f'{x}_{season}' for x in a.band.values]})\n",
    "\n",
    "spring = get_season_image(a=b, season='spring', indices=[6,8],num_months='2MS')\n",
    "summer = get_season_image(a=b, season='summer', indices=[14,17],num_months='3MS')\n",
    "fall = get_season_image(a=b, season='fall', indices=[19,22],num_months='3MS')\n"
   ]
  },
  {
   "cell_type": "code",
   "execution_count": 43,
   "metadata": {},
   "outputs": [],
   "source": [
    "season_bands = xr.concat([spring,summer,fall],dim='band')"
   ]
  },
  {
   "cell_type": "code",
   "execution_count": null,
   "metadata": {},
   "outputs": [],
   "source": [
    "# calculate seasonal evi, lswi, slavi, psri\n",
    "\n",
    "def remove_outliers(a,norm=True):\n",
    "    a = a.where(np.isfinite(a),np.nan)\n",
    "    if norm == True:\n",
    "        a = a.where((a >= -1) & (a <= 1))\n",
    "    else:\n",
    "        a = a.where((a >= 0) & (a <= 8))\n",
    "    return a\n",
    "\n",
    "array_list = [spring,summer,fall]\n",
    "season_list = ['spring','summer','fall']\n",
    "to_concat = list()\n",
    "for i in range(0,3):\n",
    "    blue = array_list[i].sel(band=f'B02_{season_list[i]}')\n",
    "    red = array_list[i].sel(band=f'B04_{season_list[i]}')\n",
    "    nir = array_list[i].sel(band=f'B8A_{season_list[i]}')\n",
    "    sw1 = array_list[i].sel(band=f'B11_{season_list[i]}')\n",
    "    sw2 = array_list[i].sel(band=f'B12_{season_list[i]}')\n",
    "    re2 = array_list[i].sel(band=f'B06_{season_list[i]}')\n",
    "\n",
    "\n",
    "    evi = 2.5 * ((nir - red) / (nir + 6 * red - 7.5 * blue + 1)).expand_dims({'band':[f'evi_{season_list[i]}']}) # range -1 - 1\n",
    "    evi = remove_outliers(evi)\n",
    "\n",
    "    lswi = (nir - sw1)/(nir + sw1).expand_dims({'band':[f'lswi_{season_list[i]}']}) # range -1 to 1\n",
    "    lswi = remove_outliers(lswi)\n",
    "\n",
    "    slavi = nir/(red + sw2).expand_dims({'band':[f'slavi_{season_list[i]}']}) # range 0 - 8\n",
    "    slavi = remove_outliers(slavi,norm=False)\n",
    "\n",
    "    psri = (red - blue)/re2.expand_dims({'band':[f'psri_{season_list[i]}']}) # range -1 to 1\n",
    "    psri = remove_outliers(psri)\n",
    "\n",
    "    season_vi = xr.concat([evi,lswi,slavi,psri],dim='band')\n",
    "\n",
    "    to_concat.append(season_vi)\n",
    "\n",
    "r = xr.concat(to_concat,dim='band')\n",
    "\n",
    "\n",
    "\n"
   ]
  },
  {
   "cell_type": "code",
   "execution_count": 75,
   "metadata": {},
   "outputs": [],
   "source": [
    "# summer - fall & summer - spring for evi, lswi, slavi, and psri\n",
    "def get_season_differences(band,season):\n",
    "    d = r.sel(band=f'{band}_summer') - r.sel(band=f'{band}_{season}')\n",
    "    return d.expand_dims({'band':[f'{band}_{season}_diff']})\n",
    "\n",
    "to_concat = list()\n",
    "for vi in ['evi', 'lswi', 'slavi','psri']:\n",
    "    for s in ['spring','fall']:\n",
    "        t = get_season_differences(vi,s)\n",
    "        to_concat.append(t)\n",
    "\n",
    "m1 = xr.concat(to_concat,dim='band')\n",
    "# evi spring\n",
    "# evi fall"
   ]
  },
  {
   "cell_type": "code",
   "execution_count": 78,
   "metadata": {},
   "outputs": [],
   "source": [
    "final = xr.concat([m1,r],dim='band')"
   ]
  },
  {
   "cell_type": "code",
   "execution_count": 79,
   "metadata": {},
   "outputs": [],
   "source": [
    "final.to_netcdf(root / 'sentinel_data' / 'bartlett_stack.nc')"
   ]
  },
  {
   "cell_type": "code",
   "execution_count": null,
   "metadata": {},
   "outputs": [],
   "source": [
    "# to do: \n",
    "    # PCA on final stack\n",
    "    # mnf transformation\n",
    "    # select endmembers\n",
    "    # check endmembers using ppi\n",
    "    # mtmf"
   ]
  },
  {
   "cell_type": "code",
   "execution_count": null,
   "metadata": {},
   "outputs": [],
   "source": []
  }
 ],
 "metadata": {
  "kernelspec": {
   "display_name": "beech-env",
   "language": "python",
   "name": "python3"
  },
  "language_info": {
   "codemirror_mode": {
    "name": "ipython",
    "version": 3
   },
   "file_extension": ".py",
   "mimetype": "text/x-python",
   "name": "python",
   "nbconvert_exporter": "python",
   "pygments_lexer": "ipython3",
   "version": "3.12.7"
  }
 },
 "nbformat": 4,
 "nbformat_minor": 2
}
